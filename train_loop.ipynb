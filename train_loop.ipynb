{
 "cells": [
  {
   "cell_type": "code",
   "execution_count": 6,
   "metadata": {},
   "outputs": [],
   "source": [
    "import numpy as np\n",
    "import time\n",
    "import tensorflow as tf\n",
    "import os\n",
    "import argparse\n",
    "import sys"
   ]
  },
  {
   "cell_type": "code",
   "execution_count": 2,
   "metadata": {},
   "outputs": [],
   "source": [
    "#Training loop :\n",
    "#Fonction affichage  du temps:\n",
    "\n",
    "def convert_time(total_s):\n",
    "\ttotal_s = np.round(total_s / 60) * 60\n",
    "\ttime_h = np.floor(total_s / 3600)\n",
    "\ttotal_s -= time_h * 3600\n",
    "\ttime_m = np.floor(total_s / 60)\n",
    "\ttotal_s -= time_m * 60\n",
    "\ttime_s = total_s\n",
    "\treturn '%ih:%im:%.2fs'%(time_h,time_m,time_s)\n"
   ]
  },
  {
   "cell_type": "code",
   "execution_count": 5,
   "metadata": {},
   "outputs": [
    {
     "data": {
      "text/plain": [
       "'0h:2m:0.00s'"
      ]
     },
     "execution_count": 5,
     "metadata": {},
     "output_type": "execute_result"
    }
   ],
   "source": [
    "def training_loop(model,epochs,optimizer,lr,loss,train_set,valid_set,metric):\n",
    "    total_steps=epochs*np.shape(train_set)[0]\n",
    "    for epoch in range(epochs):\n",
    "        start_epoch=time.time()\n",
    "    \n",
    "        for step in range(len(train_set)):\n",
    "            Model=model()\n",
    "            loss=\n",
    "            loss+=loss\n",
    "\n",
    "        \"\"\"       print(\"\\rEpoch %i/%i - Step %i/%i - Loss : %s%.3f (remaining time : %s)\" \n",
    "\t\t\t\t%(epoch+1, epochs, step+1, train_set.__len__(), ' '*(4-len(str(int(np.round(loss_value))))), loss_value, convert_time(\n",
    "\t\t\t\t\ttotal_s=(total_steps - epoch*train_set.__len__() - step) * np.mean(average_time_step))), end='') \"\"\"\n",
    "    return Model"
   ]
  },
  {
   "cell_type": "code",
   "execution_count": null,
   "metadata": {},
   "outputs": [],
   "source": []
  }
 ],
 "metadata": {
  "kernelspec": {
   "display_name": "Python 3.9.12 ('g')",
   "language": "python",
   "name": "python3"
  },
  "language_info": {
   "codemirror_mode": {
    "name": "ipython",
    "version": 3
   },
   "file_extension": ".py",
   "mimetype": "text/x-python",
   "name": "python",
   "nbconvert_exporter": "python",
   "pygments_lexer": "ipython3",
   "version": "3.9.12"
  },
  "orig_nbformat": 4,
  "vscode": {
   "interpreter": {
    "hash": "d793707d6e04838b1e2f2e46fee5aacca74f8fa90dc0d2d6a47de7395102c672"
   }
  }
 },
 "nbformat": 4,
 "nbformat_minor": 2
}
