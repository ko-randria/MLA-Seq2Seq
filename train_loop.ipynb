{
 "cells": [
  {
   "cell_type": "code",
   "execution_count": 2,
   "metadata": {},
   "outputs": [
    {
     "name": "stderr",
     "output_type": "stream",
     "text": [
      "[nltk_data] Downloading package punkt to\n",
      "[nltk_data]     C:\\Users\\HP\\AppData\\Roaming\\nltk_data...\n",
      "[nltk_data]   Package punkt is already up-to-date!\n"
     ]
    }
   ],
   "source": [
    "import numpy as np\n",
    "import time\n",
    "import tensorflow as tf\n",
    "import os, sys, tarfile\n",
    "import argparse\n",
    "import sys\n",
    "\n",
    "import nltk\n",
    "nltk.download('punkt')\n",
    "from nltk.tokenize import sent_tokenize, word_tokenize"
   ]
  },
  {
   "cell_type": "markdown",
   "metadata": {},
   "source": [
    "### Preparing the data for the training"
   ]
  },
  {
   "cell_type": "code",
   "execution_count": 22,
   "metadata": {},
   "outputs": [],
   "source": [
    "# For the database \"News Commentary\" database (parallel corpora provided by ACL WMT  14)\n",
    "tar_name = \"training-parallel-nc-v9.tgz\"\n",
    "tar = tarfile.open(tar_name,'r')\n",
    "\n",
    "# on doit acceder aux fichiers \"fr_en.en et fr_en.fr\"  "
   ]
  },
  {
   "cell_type": "code",
   "execution_count": null,
   "metadata": {},
   "outputs": [],
   "source": [
    "# Tokenization\n",
    "def tokenize(text):\n",
    "    return np.array([np.array(word_tokenize(t)) for t in sent_tokenize(text)]) #sentence tokenized"
   ]
  },
  {
   "cell_type": "markdown",
   "metadata": {},
   "source": [
    "### Training"
   ]
  },
  {
   "cell_type": "code",
   "execution_count": 2,
   "metadata": {},
   "outputs": [],
   "source": [
    "#Training loop :\n",
    "#Fonction affichage  du temps:\n",
    "\n",
    "def convert_time(total_s):\n",
    "\ttotal_s = np.round(total_s / 60) * 60\n",
    "\ttime_h = np.floor(total_s / 3600)\n",
    "\ttotal_s -= time_h * 3600\n",
    "\ttime_m = np.floor(total_s / 60)\n",
    "\ttotal_s -= time_m * 60\n",
    "\ttime_s = total_s\n",
    "\treturn '%ih:%im:%.2fs'%(time_h,time_m,time_s)\n"
   ]
  },
  {
   "cell_type": "code",
   "execution_count": 21,
   "metadata": {},
   "outputs": [],
   "source": [
    "# Model size\n",
    "n = 1000 # size of a hidden layer\n",
    "m = 620 # word embedding dimensionality \n",
    "l = 500 # size of the maxout hidden layer in the deep output \n",
    "n_p = 1000 # number of hidden units in the alignement model\n",
    "\n",
    "# Parameter Initialization\n",
    "\n",
    "\n",
    "\n",
    "# Training parameter\n",
    "optimizer = tf.keras.optimizers.Adadelta(learning_rate=10e-6, rho=0.95) # SGD algorithm with Adadelta"
   ]
  },
  {
   "cell_type": "code",
   "execution_count": 5,
   "metadata": {},
   "outputs": [
    {
     "data": {
      "text/plain": [
       "'0h:2m:0.00s'"
      ]
     },
     "execution_count": 5,
     "metadata": {},
     "output_type": "execute_result"
    }
   ],
   "source": [
    "def training_loop(model,epochs,optimizer,lr,loss,train_set,valid_set,metric):\n",
    "    total_steps=epochs*np.shape(train_set)[0]\n",
    "    for epoch in range(epochs):\n",
    "        start_epoch=time.time()\n",
    "    \n",
    "        for step in range(len(train_set)):\n",
    "            Model=model()\n",
    "            loss=\n",
    "            loss+=loss\n",
    "\n",
    "        \"\"\"       print(\"\\rEpoch %i/%i - Step %i/%i - Loss : %s%.3f (remaining time : %s)\" \n",
    "\t\t\t\t%(epoch+1, epochs, step+1, train_set.__len__(), ' '*(4-len(str(int(np.round(loss_value))))), loss_value, convert_time(\n",
    "\t\t\t\t\ttotal_s=(total_steps - epoch*train_set.__len__() - step) * np.mean(average_time_step))), end='') \"\"\"\n",
    "    return Model"
   ]
  },
  {
   "cell_type": "code",
   "execution_count": null,
   "metadata": {},
   "outputs": [],
   "source": []
  }
 ],
 "metadata": {
  "kernelspec": {
   "display_name": "Python 3.8.8 ('base')",
   "language": "python",
   "name": "python3"
  },
  "language_info": {
   "codemirror_mode": {
    "name": "ipython",
    "version": 3
   },
   "file_extension": ".py",
   "mimetype": "text/x-python",
   "name": "python",
   "nbconvert_exporter": "python",
   "pygments_lexer": "ipython3",
   "version": "3.8.8"
  },
  "orig_nbformat": 4,
  "vscode": {
   "interpreter": {
    "hash": "054bff7a3e40494a77b69c2839a8742333280dcacbaf25f3affaa84064d3e215"
   }
  }
 },
 "nbformat": 4,
 "nbformat_minor": 2
}
