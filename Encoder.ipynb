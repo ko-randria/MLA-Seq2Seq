{
 "cells": [
  {
   "cell_type": "code",
   "execution_count": 1,
   "metadata": {},
   "outputs": [],
   "source": [
    "#File Encoder :\n",
    "import tensorflow as tf\n",
    "import numpy as np\n",
    "import matplotlib.pyplot as plt"
   ]
  },
  {
   "cell_type": "code",
   "execution_count": 15,
   "metadata": {},
   "outputs": [],
   "source": [
    "#Importing data \n",
    "#PB pas la bo,nne dataset :\n",
    "\n",
    "from tensorflow.keras.datasets import imdb\n",
    "\n",
    "num_words = 5000\n",
    "max_len   =  100\n",
    "\n",
    "(x_train, y_train), (x_test, y_test) = imdb.load_data(num_words=num_words,\n",
    "                                                      maxlen=max_len)\n",
    "       "
   ]
  },
  {
   "cell_type": "code",
   "execution_count": 17,
   "metadata": {},
   "outputs": [],
   "source": [
    "# On importe les librairies pour le RNN\n",
    "from tensorflow.keras.layers import Concatenate ,Dense , Input , SimpleRNN, LSTM , Embedding, Dropout\n",
    "from tensorflow.keras.layers import Bidirectional, GlobalMaxPool1D , GRU, MaxPooling1D,Activation\n",
    "from tensorflow.keras.models import Model, Sequential\n",
    "from tensorflow.keras.layers import Convolution1D,Flatten,Conv1D\n",
    "from sklearn.metrics import confusion_matrix,accuracy_score\n"
   ]
  },
  {
   "cell_type": "code",
   "execution_count": 19,
   "metadata": {},
   "outputs": [
    {
     "ename": "TypeError",
     "evalue": "function() argument 'code' must be code, not str",
     "output_type": "error",
     "traceback": [
      "\u001b[1;31m---------------------------------------------------------------------------\u001b[0m",
      "\u001b[1;31mTypeError\u001b[0m                                 Traceback (most recent call last)",
      "\u001b[1;32mc:\\Users\\inesg\\Downloads\\M2_ISI\\MLA_SEQ2SEQ\\Encoder.ipynb Cellule 4\u001b[0m in \u001b[0;36m<cell line: 26>\u001b[1;34m()\u001b[0m\n\u001b[0;32m     <a href='vscode-notebook-cell:/c%3A/Users/inesg/Downloads/M2_ISI/MLA_SEQ2SEQ/Encoder.ipynb#W3sZmlsZQ%3D%3D?line=22'>23</a>\u001b[0m         \u001b[39mself\u001b[39m\u001b[39m.\u001b[39mctx\u001b[39m=\u001b[39m\u001b[39mself\u001b[39m\u001b[39m.\u001b[39mHS\u001b[39m.\u001b[39mtanh()\n\u001b[0;32m     <a href='vscode-notebook-cell:/c%3A/Users/inesg/Downloads/M2_ISI/MLA_SEQ2SEQ/Encoder.ipynb#W3sZmlsZQ%3D%3D?line=23'>24</a>\u001b[0m         \u001b[39mreturn\u001b[39;00m \u001b[39mself\u001b[39m\u001b[39m.\u001b[39mctx,\u001b[39mself\u001b[39m\u001b[39m.\u001b[39ms\n\u001b[1;32m---> <a href='vscode-notebook-cell:/c%3A/Users/inesg/Downloads/M2_ISI/MLA_SEQ2SEQ/Encoder.ipynb#W3sZmlsZQ%3D%3D?line=25'>26</a>\u001b[0m \u001b[39mclass\u001b[39;00m \u001b[39mAttention\u001b[39;00m(Input):\n\u001b[0;32m     <a href='vscode-notebook-cell:/c%3A/Users/inesg/Downloads/M2_ISI/MLA_SEQ2SEQ/Encoder.ipynb#W3sZmlsZQ%3D%3D?line=26'>27</a>\u001b[0m     \u001b[39mdef\u001b[39;00m \u001b[39m__init__\u001b[39m(\u001b[39mself\u001b[39m,enc_hs_dim,dec_hs_dim ):\u001b[39m#Previous hs of the decoder and all the hs from the encoder\u001b[39;00m\n\u001b[0;32m     <a href='vscode-notebook-cell:/c%3A/Users/inesg/Downloads/M2_ISI/MLA_SEQ2SEQ/Encoder.ipynb#W3sZmlsZQ%3D%3D?line=27'>28</a>\u001b[0m         \u001b[39msuper\u001b[39m()\u001b[39m.\u001b[39m\u001b[39m__init__\u001b[39m()\n",
      "\u001b[1;31mTypeError\u001b[0m: function() argument 'code' must be code, not str"
     ]
    }
   ],
   "source": [
    "RNN_size=100\n",
    "embed_size=256\n",
    "encod_size=256\n",
    "decod_size=256\n",
    "\n",
    "\n",
    "class encoder :\n",
    "    def __init__(self,Input,num_words,embed_size,encod_size):\n",
    "        super().__init__()\n",
    "\n",
    "        # Example d'architecture pour le réseau RNN simple avec dropout\n",
    "        \n",
    "        self.embed=Embedding(num_words, embed_size)(Input)                 # layer embedding\n",
    "        \"\"\"    Forward,HSF=SimpleRNN(RNN_size)(embed)  \n",
    "        Backward,HSB=SimpleRNN(RNN_size,go_backwards=True)(embed)  \n",
    "        HS=tf.concat([HSF,HSB],0)\n",
    "        print(np.shape(HS))\n",
    "        #Context vector :\n",
    "        ctx=HS.tanh()\"\"\"\n",
    "    def encode(self):\n",
    "        self.s,self.hs=GRU(embed_size,encod_size,bi_directionnel=True)\n",
    "        self.HS=tf.concat((self.hs[-2,:,:], self.hs[-1,:,:]), dim = 1)\n",
    "        self.ctx=self.HS.tanh()\n",
    "        return self.ctx,self.s\n",
    "\n",
    "class Attention :\n",
    "    def __init__(self,enc_hs_dim,dec_hs_dim ):#Previous hs of the decoder and all the hs from the encoder\n",
    "        super().__init__()\n",
    "        self.a=Dense((enc_hs_dim*2)+dec_hs_dim,dec_hs_dim)\n",
    "\n",
    "    def Attention(self,ctx,s ):\n",
    "        att=tf.tanh(self.a(tf.concat((ctx,s),dim=1)))\n",
    "\n",
    "        \n",
    "\n",
    "\n",
    "\n",
    "\n",
    "        return Activation('softmax')(att)\n",
    "\n",
    "class Decoder :\n",
    "\n",
    "    #Contains the attention layer \n",
    "    def  __init__(self,s_size,emb_size,enc_hs_dim,dec_hs_size,attention,):\n",
    "        self.att=attention \n",
    "        self.embed=Embedding(s_size, embed_size)(Input)\n",
    "        self.dec=GRU((enc_hs_dim*2)+emb_size,dec_hs_size)\n",
    "        self.fc_out=Dense((enc_hs_dim*2+dec_hs_size+emb_size,s_size))\n",
    "        self.dropout=Dropout()\n",
    "\n",
    "\n"
   ]
  },
  {
   "cell_type": "code",
   "execution_count": null,
   "metadata": {},
   "outputs": [],
   "source": [
    "class Decoder(Input):\n",
    "    def __init__(self,):\n",
    "        super().__init__()\n",
    "    \n",
    "    def decode(self):\n",
    "\n",
    "\n",
    "        \n",
    "        "
   ]
  },
  {
   "cell_type": "code",
   "execution_count": 38,
   "metadata": {},
   "outputs": [
    {
     "name": "stdout",
     "output_type": "stream",
     "text": [
      "tf.Tensor([1 2 3], shape=(3,), dtype=int64)\n"
     ]
    }
   ],
   "source": [
    "import torch\n",
    "import tensorflow\n",
    "x = torch.tensor([1, 2, 3])\n",
    "x.repeat(1, 2)\n",
    "x.repeat(1,2,1)\n",
    "\n"
   ]
  },
  {
   "cell_type": "code",
   "execution_count": 41,
   "metadata": {},
   "outputs": [
    {
     "name": "stdout",
     "output_type": "stream",
     "text": [
      "torch.Size([2, 1, 2, 1, 2])\n"
     ]
    },
    {
     "data": {
      "text/plain": [
       "'torch.Size([2, 1, 2, 1, 2])\\ny = torch.squeeze(x)\\ny.size()\\ntorch.Size([2, 2, 2])\\ny = torch.squeeze(x, 0)\\ny.size()\\ntorch.Size([2, 1, 2, 1, 2])\\ny = torch.squeeze(x, 1)\\ny.size()'"
      ]
     },
     "execution_count": 41,
     "metadata": {},
     "output_type": "execute_result"
    }
   ],
   "source": [
    "x = torch.zeros(2, 1, 2, 1, 2)\n",
    "x.size()\n",
    "torch.Size([2, 1, 2, 1, 2])\n",
    "y = torch.squeeze(x)\n",
    "y.size()\n",
    "torch.Size([2, 2, 2])\n",
    "y = torch.squeeze(x, 0)\n",
    "y.size()\n",
    "torch.Size([2, 1, 2, 1, 2])\n",
    "y = torch.squeeze(x, 1)\n",
    "y.size()"
   ]
  },
  {
   "cell_type": "code",
   "execution_count": null,
   "metadata": {},
   "outputs": [],
   "source": []
  }
 ],
 "metadata": {
  "kernelspec": {
   "display_name": "Python 3.9.12 ('g')",
   "language": "python",
   "name": "python3"
  },
  "language_info": {
   "codemirror_mode": {
    "name": "ipython",
    "version": 3
   },
   "file_extension": ".py",
   "mimetype": "text/x-python",
   "name": "python",
   "nbconvert_exporter": "python",
   "pygments_lexer": "ipython3",
   "version": "3.9.12"
  },
  "orig_nbformat": 4,
  "vscode": {
   "interpreter": {
    "hash": "d793707d6e04838b1e2f2e46fee5aacca74f8fa90dc0d2d6a47de7395102c672"
   }
  }
 },
 "nbformat": 4,
 "nbformat_minor": 2
}
