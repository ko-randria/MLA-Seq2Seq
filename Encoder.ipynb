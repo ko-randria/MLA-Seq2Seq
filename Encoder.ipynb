{
 "cells": [
  {
   "cell_type": "code",
   "execution_count": 1,
   "metadata": {},
   "outputs": [],
   "source": [
    "#File Encoder :\n",
    "import tensorflow as tf\n",
    "import numpy as np\n",
    "import matplotlib.pyplot as plt"
   ]
  },
  {
   "cell_type": "code",
   "execution_count": 15,
   "metadata": {},
   "outputs": [],
   "source": [
    "#Importing data \n",
    "#PB pas la bo,nne dataset :\n",
    "\n",
    "from tensorflow.keras.datasets import imdb\n",
    "\n",
    "num_words = 5000\n",
    "max_len   =  100\n",
    "\n",
    "(x_train, y_train), (x_test, y_test) = imdb.load_data(num_words=num_words,\n",
    "                                                      maxlen=max_len)\n",
    "       "
   ]
  },
  {
   "cell_type": "code",
   "execution_count": 17,
   "metadata": {},
   "outputs": [],
   "source": [
    "# On importe les librairies pour le RNN\n",
    "from tensorflow.keras.layers import Concatenate ,Dense , Input , SimpleRNN, LSTM , Embedding, Dropout\n",
    "from tensorflow.keras.layers import Bidirectional, GlobalMaxPool1D , GRU, MaxPooling1D,Activation\n",
    "from tensorflow.keras.models import Model, Sequential\n",
    "from tensorflow.keras.layers import Convolution1D,Flatten,Conv1D\n",
    "from sklearn.metrics import confusion_matrix,accuracy_score\n"
   ]
  },
  {
   "cell_type": "code",
   "execution_count": 1,
   "metadata": {},
   "outputs": [],
   "source": [
    "RNN_size=100\n",
    "embed_size=256\n",
    "encod_size=256\n",
    "decod_size=256\n",
    "\n",
    "\n",
    "class encoder :\n",
    "    def __init__(self,Input,num_words,embed_size,encod_size):\n",
    "        super().__init__()\n",
    "\n",
    "        # Example d'architecture pour le réseau RNN simple avec dropout\n",
    "        \n",
    "        self.embed=Embedding(num_words, embed_size)(Input)                 # layer embedding\n",
    "\n",
    "    def encode(self):\n",
    "        self.s,self.hs=GRU(embed_size,encod_size,bi_directionnel=True)\n",
    "        self.HS=tf.concat((self.hs[-2,:,:], self.hs[-1,:,:]), dim = 1)\n",
    "        self.ctx=self.HS.tanh()\n",
    "        return self.ctx,self.s\n",
    "\n",
    "\"\"\"class Attention :\n",
    "    def __init__(self,enc_hs_dim,dec_hs_dim ):#Previous hs of the decoder and all the hs from the encoder\n",
    "        super().__init__()\n",
    "        self.a=Dense((enc_hs_dim*2)+dec_hs_dim,dec_hs_dim)\"\"\"\n",
    "\n",
    "def Attention(ctx,soft ):\n",
    "    Attention(use_scale=True,score_mode=\"concat\")([ctx,soft])\n",
    "\n",
    "\n",
    "\n",
    "def Decoder(Input,s,ctx,ctx_size,s_size):\n",
    "    emb=Embedding(s_size,ctx_size)(Input)\n",
    "    emb=Activation('Relu')(emb)\n",
    "    \n",
    "    sortie,ctx=GRU(ctx_size,ctx_size,s,ctx)(emb)\n",
    "    soft=Activation('softmax')(sortie[0])\n",
    "    return soft,ctx\n",
    "\n",
    "\n",
    "\n",
    "\n",
    "\n",
    "\n"
   ]
  },
  {
   "cell_type": "code",
   "execution_count": null,
   "metadata": {},
   "outputs": [],
   "source": [
    "\n",
    "\n",
    "\n",
    "\n",
    "        \n",
    "        "
   ]
  },
  {
   "cell_type": "code",
   "execution_count": null,
   "metadata": {},
   "outputs": [],
   "source": [
    "\n",
    "\n"
   ]
  },
  {
   "cell_type": "code",
   "execution_count": null,
   "metadata": {},
   "outputs": [],
   "source": []
  },
  {
   "cell_type": "code",
   "execution_count": null,
   "metadata": {},
   "outputs": [],
   "source": []
  }
 ],
 "metadata": {
  "kernelspec": {
   "display_name": "Python 3.9.12 ('g')",
   "language": "python",
   "name": "python3"
  },
  "language_info": {
   "codemirror_mode": {
    "name": "ipython",
    "version": 3
   },
   "file_extension": ".py",
   "mimetype": "text/x-python",
   "name": "python",
   "nbconvert_exporter": "python",
   "pygments_lexer": "ipython3",
   "version": "3.9.12"
  },
  "orig_nbformat": 4,
  "vscode": {
   "interpreter": {
    "hash": "d793707d6e04838b1e2f2e46fee5aacca74f8fa90dc0d2d6a47de7395102c672"
   }
  }
 },
 "nbformat": 4,
 "nbformat_minor": 2
}
